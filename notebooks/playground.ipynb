{
 "cells": [
  {
   "cell_type": "code",
   "execution_count": 1,
   "metadata": {},
   "outputs": [],
   "source": [
    "from algosdk import account"
   ]
  },
  {
   "cell_type": "code",
   "execution_count": 2,
   "metadata": {},
   "outputs": [],
   "source": [
    "private_key, public_address = account.generate_account()"
   ]
  },
  {
   "cell_type": "code",
   "execution_count": 3,
   "metadata": {},
   "outputs": [
    {
     "name": "stdout",
     "output_type": "stream",
     "text": [
      "Base64 Private Key: 501z42tJYGlVlgdKJlpDKmdKyTdI45wuTQNIs3UZzdhwZpUmeX/APYKbMigZm6mfSDGaMCF+FzDhu2yOzhGTIA==\n",
      "Public Algorand Address: OBTJKJTZP7AD3AU3GIUBTG5JT5EDDGRQEF7BOMHBXNWI5TQRSMQATCRH3Q\n",
      "\n"
     ]
    }
   ],
   "source": [
    "print(\"Base64 Private Key: {}\\nPublic Algorand Address: {}\\n\".format(private_key, public_address))\n"
   ]
  },
  {
   "cell_type": "code",
   "execution_count": 4,
   "metadata": {},
   "outputs": [],
   "source": [
    "from algosdk import mnemonic\n",
    "m = mnemonic.from_private_key(private_key)"
   ]
  },
  {
   "cell_type": "code",
   "execution_count": 5,
   "metadata": {},
   "outputs": [
    {
     "name": "stdout",
     "output_type": "stream",
     "text": [
      "Account 1\n",
      "K7SOCQDRHC3L7JGYJI5LY7DGV557EZEO2RF7MYLP2SEYAXLVB5NM66CVZ4\n",
      "Account 2\n",
      "7Y3ZTZK2U6GC447J6QNQAXRNFFRGGXC52X43SNFU2XOKV5IPKDPQTG2KZI\n",
      "Account 3\n",
      "XZYOSUFRC36UEZLSBXOFZS3HSMSRYDRKI5QBNNULMKWHVEXSI4ZPAW5GTU\n",
      "\n",
      "Copy off accounts above and add TestNet Algo funds using the TestNet Dispenser at https://bank.testnet.algorand.network/\n",
      "copy off the following mnemonic code for use later\n",
      "\n",
      "mnemonic1 = \"smart lecture include mystery faint feed narrow fox decide join slush vibrant jump tower hood announce affair north bunker vacant expand trouble leaf absent parrot\"\n",
      "mnemonic2 = \"trouble volcano illness minute evolve column crack circle prison spider comic example better clerk dream thumb grant jar swing across solid denial dentist above trip\"\n",
      "mnemonic3 = \"print casino afraid sand hood diary impose apology increase vacuum scissors oak provide cost slush eager involve tiny joke awake spoil airport alarm absent bulb\"\n"
     ]
    }
   ],
   "source": [
    "import json\n",
    "from algosdk import account, mnemonic\n",
    "\n",
    "acct = account.generate_account()\n",
    "address1 = acct[1]\n",
    "print(\"Account 1\")\n",
    "print(address1)\n",
    "mnemonic1 = mnemonic.from_private_key(acct[0])\n",
    "\n",
    "print(\"Account 2\")\n",
    "acct = account.generate_account()\n",
    "address2 = acct[1]\n",
    "print(address2)\n",
    "mnemonic2 = mnemonic.from_private_key(acct[0])\n",
    "\n",
    "print(\"Account 3\")\n",
    "acct = account.generate_account()\n",
    "address3 = acct[1]\n",
    "print(address3)\n",
    "mnemonic3 = mnemonic.from_private_key(acct[0])\n",
    "print (\"\")\n",
    "print(\"Copy off accounts above and add TestNet Algo funds using the TestNet Dispenser at https://bank.testnet.algorand.network/\")\n",
    "print(\"copy off the following mnemonic code for use later\")\n",
    "print(\"\")\n",
    "print(\"mnemonic1 = \\\"{}\\\"\".format(mnemonic1))\n",
    "print(\"mnemonic2 = \\\"{}\\\"\".format(mnemonic2))\n",
    "print(\"mnemonic3 = \\\"{}\\\"\".format(mnemonic3))"
   ]
  },
  {
   "cell_type": "code",
   "execution_count": 6,
   "metadata": {},
   "outputs": [
    {
     "name": "stdout",
     "output_type": "stream",
     "text": [
      "Account balance: 0 microAlgos\n",
      "\n"
     ]
    }
   ],
   "source": [
    "from algosdk.v2client import algod\n",
    "\n",
    "def first_transaction_example(private_key, my_address):\n",
    "    algod_address = \"http://localhost:4001\"\n",
    "    algod_token = \"aaaaaaaaaaaaaaaaaaaaaaaaaaaaaaaaaaaaaaaaaaaaaaaaaaaaaaaaaaaaaaaa\"\n",
    "    algod_client = algod.AlgodClient(algod_token, algod_address)\n",
    "    account_info = algod_client.account_info(my_address)\n",
    "    print(\"Account balance: {} microAlgos\".format(account_info.get('amount')) + \"\\n\")\n",
    "    # print(json.dumps(account_info, indent=2))\n",
    "\n",
    "first_transaction_example(acct[0],address3)"
   ]
  },
  {
   "cell_type": "code",
   "execution_count": 7,
   "metadata": {},
   "outputs": [
    {
     "name": "stdout",
     "output_type": "stream",
     "text": [
      "Account balance: 0 microAlgos\n",
      "\n"
     ]
    }
   ],
   "source": [
    "def first_transaction_example(private_key, my_address):\n",
    "    algod_address = \"http://localhost:4001\"\n",
    "    algod_token = \"aaaaaaaaaaaaaaaaaaaaaaaaaaaaaaaaaaaaaaaaaaaaaaaaaaaaaaaaaaaaaaaa\"\n",
    "    algod_client = algod.AlgodClient(algod_token, algod_address)\n",
    "    account_info = algod_client.account_info(my_address)\n",
    "    print(\"Account balance: {} microAlgos\".format(account_info.get('amount')) + \"\\n\")\n",
    "    # print(json.dumps(account_info, indent=2))\n",
    "\n",
    "first_transaction_example(acct[0],address3)"
   ]
  },
  {
   "cell_type": "markdown",
   "metadata": {},
   "source": [
    "#### With purestake API"
   ]
  },
  {
   "cell_type": "code",
   "execution_count": 10,
   "metadata": {},
   "outputs": [],
   "source": [
    "import sys\n",
    "import os\n",
    "from dotenv import load_dotenv\n",
    "from algosdk import account"
   ]
  },
  {
   "cell_type": "code",
   "execution_count": 12,
   "metadata": {},
   "outputs": [
    {
     "name": "stdout",
     "output_type": "stream",
     "text": [
      "None None\n"
     ]
    }
   ],
   "source": [
    "API_KEY = os.getenv('API_KEY')\n",
    "API_URL_TEST_NET  = os.getenv('API_URL_TEST_NET')\n",
    "\n",
    "print(API_KEY, API_URL_TEST_NET)"
   ]
  },
  {
   "cell_type": "code",
   "execution_count": 13,
   "metadata": {},
   "outputs": [
    {
     "name": "stdout",
     "output_type": "stream",
     "text": [
      "Base64 Private Key: Kftx7NsyftqYIUw5YCZNr8/49iHSXIMruF5hpY7R5iBOeJ1b4sljyMrwiLxO93v1rlJDwnfnm2hYaFu6N42f+Q==\n",
      "Public Algorand Address: JZ4J2W7CZFR4RSXQRC6E55336WXFEQ6CO7TZW2CYNBN3UN4NT745LPPKLY\n",
      "\n"
     ]
    }
   ],
   "source": [
    "private_key, public_address = account.generate_account()\n",
    "print(\"Base64 Private Key: {}\\nPublic Algorand Address: {}\\n\".format(private_key, public_address))"
   ]
  },
  {
   "cell_type": "code",
   "execution_count": 14,
   "metadata": {},
   "outputs": [
    {
     "data": {
      "text/plain": [
       "'gown side wage color wise custom art equip already office pledge wife various laundry much fresh idea thing quantum figure bubble refuse already ability excite'"
      ]
     },
     "execution_count": 14,
     "metadata": {},
     "output_type": "execute_result"
    }
   ],
   "source": [
    "from algosdk import mnemonic\n",
    "m = mnemonic.from_private_key(private_key)\n",
    "m"
   ]
  },
  {
   "cell_type": "code",
   "execution_count": 15,
   "metadata": {},
   "outputs": [
    {
     "name": "stdout",
     "output_type": "stream",
     "text": [
      "Account 1\n",
      "CJ52WMQSYARZJLWZCERKMNEU3B3353OMULHJH2EYBOLARCS7ZHBS65PLQY\n",
      "Account 2\n",
      "6T3Q274LFOFC4VFZ4A6H22IOIGAFUYJVB5FGED5XWFHLUDMG6UBR62NNNE\n",
      "Account 3\n",
      "KTY2SJZVBK5I2O27H2MVVK6KJBQJELRIUFCXKGEMQUOHLLV7L4723DGOKM\n",
      "\n",
      "Copy off accounts above and add TestNet Algo funds using the TestNet Dispenser at https://bank.testnet.algorand.network/\n",
      "copy off the following mnemonic code for use later\n",
      "\n",
      "mnemonic1 = \"cotton make buzz stairs junior symptom approve scatter exhibit picture clean forum muffin list avocado venue day wish carbon identify umbrella skill second ability custom\"\n",
      "mnemonic2 = \"buzz coffee audit course stamp pond twin crazy much common girl same pelican asset actor boil slow melt bamboo thunder practice forest history abstract enable\"\n",
      "mnemonic3 = \"broccoli noise surge april planet stay glue garlic hockey piano that blanket royal dose uncover leg tragic afraid room help health retreat patch abstract unaware\"\n"
     ]
    }
   ],
   "source": [
    "import json\n",
    "from algosdk import account, mnemonic\n",
    "\n",
    "acct = account.generate_account()\n",
    "address1 = acct[1]\n",
    "print(\"Account 1\")\n",
    "print(address1)\n",
    "mnemonic1 = mnemonic.from_private_key(acct[0])\n",
    "\n",
    "print(\"Account 2\")\n",
    "acct = account.generate_account()\n",
    "address2 = acct[1]\n",
    "print(address2)\n",
    "mnemonic2 = mnemonic.from_private_key(acct[0])\n",
    "\n",
    "print(\"Account 3\")\n",
    "acct = account.generate_account()\n",
    "address3 = acct[1]\n",
    "print(address3)\n",
    "mnemonic3 = mnemonic.from_private_key(acct[0])\n",
    "print (\"\")\n",
    "print(\"Copy off accounts above and add TestNet Algo funds using the TestNet Dispenser at https://bank.testnet.algorand.network/\")\n",
    "print(\"copy off the following mnemonic code for use later\")\n",
    "print(\"\")\n",
    "print(\"mnemonic1 = \\\"{}\\\"\".format(mnemonic1))\n",
    "print(\"mnemonic2 = \\\"{}\\\"\".format(mnemonic2))\n",
    "print(\"mnemonic3 = \\\"{}\\\"\".format(mnemonic3))"
   ]
  },
  {
   "cell_type": "code",
   "execution_count": 16,
   "metadata": {},
   "outputs": [
    {
     "ename": "TypeError",
     "evalue": "unsupported operand type(s) for +: 'NoneType' and 'str'",
     "output_type": "error",
     "traceback": [
      "\u001b[0;31m---------------------------------------------------------------------------\u001b[0m",
      "\u001b[0;31mTypeError\u001b[0m                                 Traceback (most recent call last)",
      "Cell \u001b[0;32mIn[16], line 12\u001b[0m\n\u001b[1;32m      9\u001b[0m     \u001b[38;5;28mprint\u001b[39m(\u001b[38;5;124m\"\u001b[39m\u001b[38;5;124mAccount balance: \u001b[39m\u001b[38;5;132;01m{}\u001b[39;00m\u001b[38;5;124m microAlgos\u001b[39m\u001b[38;5;124m\"\u001b[39m\u001b[38;5;241m.\u001b[39mformat(account_info\u001b[38;5;241m.\u001b[39mget(\u001b[38;5;124m'\u001b[39m\u001b[38;5;124maccount\u001b[39m\u001b[38;5;124m'\u001b[39m)\u001b[38;5;241m.\u001b[39mget(\u001b[38;5;124m'\u001b[39m\u001b[38;5;124mamount\u001b[39m\u001b[38;5;124m'\u001b[39m)) \u001b[38;5;241m+\u001b[39m \u001b[38;5;124m\"\u001b[39m\u001b[38;5;130;01m\\n\u001b[39;00m\u001b[38;5;124m\"\u001b[39m)\n\u001b[1;32m     10\u001b[0m     \u001b[38;5;28mprint\u001b[39m(json\u001b[38;5;241m.\u001b[39mdumps(account_info, indent\u001b[38;5;241m=\u001b[39m\u001b[38;5;241m2\u001b[39m))\n\u001b[0;32m---> 12\u001b[0m \u001b[43mfirst_transaction_example\u001b[49m\u001b[43m(\u001b[49m\u001b[43macct\u001b[49m\u001b[43m[\u001b[49m\u001b[38;5;241;43m0\u001b[39;49m\u001b[43m]\u001b[49m\u001b[43m,\u001b[49m\u001b[43maddress3\u001b[49m\u001b[43m)\u001b[49m\n",
      "Cell \u001b[0;32mIn[16], line 8\u001b[0m, in \u001b[0;36mfirst_transaction_example\u001b[0;34m(private_key, my_address)\u001b[0m\n\u001b[1;32m      5\u001b[0m algod_client \u001b[38;5;241m=\u001b[39m algod\u001b[38;5;241m.\u001b[39mAlgodClient(API_KEY, API_URL_TEST_NET, headers\u001b[38;5;241m=\u001b[39mheaders)\n\u001b[1;32m      7\u001b[0m \u001b[38;5;66;03m# print(algod_client)\u001b[39;00m\n\u001b[0;32m----> 8\u001b[0m account_info \u001b[38;5;241m=\u001b[39m \u001b[43malgod_client\u001b[49m\u001b[38;5;241;43m.\u001b[39;49m\u001b[43maccount_info\u001b[49m\u001b[43m(\u001b[49m\u001b[43mmy_address\u001b[49m\u001b[43m)\u001b[49m\n\u001b[1;32m      9\u001b[0m \u001b[38;5;28mprint\u001b[39m(\u001b[38;5;124m\"\u001b[39m\u001b[38;5;124mAccount balance: \u001b[39m\u001b[38;5;132;01m{}\u001b[39;00m\u001b[38;5;124m microAlgos\u001b[39m\u001b[38;5;124m\"\u001b[39m\u001b[38;5;241m.\u001b[39mformat(account_info\u001b[38;5;241m.\u001b[39mget(\u001b[38;5;124m'\u001b[39m\u001b[38;5;124maccount\u001b[39m\u001b[38;5;124m'\u001b[39m)\u001b[38;5;241m.\u001b[39mget(\u001b[38;5;124m'\u001b[39m\u001b[38;5;124mamount\u001b[39m\u001b[38;5;124m'\u001b[39m)) \u001b[38;5;241m+\u001b[39m \u001b[38;5;124m\"\u001b[39m\u001b[38;5;130;01m\\n\u001b[39;00m\u001b[38;5;124m\"\u001b[39m)\n\u001b[1;32m     10\u001b[0m \u001b[38;5;28mprint\u001b[39m(json\u001b[38;5;241m.\u001b[39mdumps(account_info, indent\u001b[38;5;241m=\u001b[39m\u001b[38;5;241m2\u001b[39m))\n",
      "File \u001b[0;32m~/miniconda3/envs/tenx_week5/lib/python3.12/site-packages/algosdk/v2client/algod.py:149\u001b[0m, in \u001b[0;36mAlgodClient.account_info\u001b[0;34m(self, address, exclude, **kwargs)\u001b[0m\n\u001b[1;32m    147\u001b[0m     query[\u001b[38;5;124m\"\u001b[39m\u001b[38;5;124mexclude\u001b[39m\u001b[38;5;124m\"\u001b[39m] \u001b[38;5;241m=\u001b[39m exclude\n\u001b[1;32m    148\u001b[0m req \u001b[38;5;241m=\u001b[39m \u001b[38;5;124m\"\u001b[39m\u001b[38;5;124m/accounts/\u001b[39m\u001b[38;5;124m\"\u001b[39m \u001b[38;5;241m+\u001b[39m address\n\u001b[0;32m--> 149\u001b[0m \u001b[38;5;28;01mreturn\u001b[39;00m \u001b[38;5;28;43mself\u001b[39;49m\u001b[38;5;241;43m.\u001b[39;49m\u001b[43malgod_request\u001b[49m\u001b[43m(\u001b[49m\u001b[38;5;124;43m\"\u001b[39;49m\u001b[38;5;124;43mGET\u001b[39;49m\u001b[38;5;124;43m\"\u001b[39;49m\u001b[43m,\u001b[49m\u001b[43m \u001b[49m\u001b[43mreq\u001b[49m\u001b[43m,\u001b[49m\u001b[43m \u001b[49m\u001b[43mquery\u001b[49m\u001b[43m,\u001b[49m\u001b[43m \u001b[49m\u001b[38;5;241;43m*\u001b[39;49m\u001b[38;5;241;43m*\u001b[39;49m\u001b[43mkwargs\u001b[49m\u001b[43m)\u001b[49m\n",
      "File \u001b[0;32m~/miniconda3/envs/tenx_week5/lib/python3.12/site-packages/algosdk/v2client/algod.py:97\u001b[0m, in \u001b[0;36mAlgodClient.algod_request\u001b[0;34m(self, method, requrl, params, data, headers, response_format)\u001b[0m\n\u001b[1;32m     93\u001b[0m \u001b[38;5;28;01mif\u001b[39;00m params:\n\u001b[1;32m     94\u001b[0m     requrl \u001b[38;5;241m=\u001b[39m requrl \u001b[38;5;241m+\u001b[39m \u001b[38;5;124m\"\u001b[39m\u001b[38;5;124m?\u001b[39m\u001b[38;5;124m\"\u001b[39m \u001b[38;5;241m+\u001b[39m parse\u001b[38;5;241m.\u001b[39murlencode(params)\n\u001b[1;32m     96\u001b[0m req \u001b[38;5;241m=\u001b[39m Request(\n\u001b[0;32m---> 97\u001b[0m     \u001b[38;5;28;43mself\u001b[39;49m\u001b[38;5;241;43m.\u001b[39;49m\u001b[43malgod_address\u001b[49m\u001b[43m \u001b[49m\u001b[38;5;241;43m+\u001b[39;49m\u001b[43m \u001b[49m\u001b[43mrequrl\u001b[49m,\n\u001b[1;32m     98\u001b[0m     headers\u001b[38;5;241m=\u001b[39mheader,\n\u001b[1;32m     99\u001b[0m     method\u001b[38;5;241m=\u001b[39mmethod,\n\u001b[1;32m    100\u001b[0m     data\u001b[38;5;241m=\u001b[39mdata,\n\u001b[1;32m    101\u001b[0m )\n\u001b[1;32m    103\u001b[0m \u001b[38;5;28;01mtry\u001b[39;00m:\n\u001b[1;32m    104\u001b[0m     resp \u001b[38;5;241m=\u001b[39m urlopen(req)\n",
      "\u001b[0;31mTypeError\u001b[0m: unsupported operand type(s) for +: 'NoneType' and 'str'"
     ]
    }
   ],
   "source": [
    "from algosdk.v2client import algod\n",
    "\n",
    "def first_transaction_example(private_key, my_address):\n",
    "    headers = {\"X-API-Key\": API_KEY }\n",
    "    algod_client = algod.AlgodClient(API_KEY, API_URL_TEST_NET, headers=headers)\n",
    "    \n",
    "    # print(algod_client)\n",
    "    account_info = algod_client.account_info(my_address)\n",
    "    print(\"Account balance: {} microAlgos\".format(account_info.get('account').get('amount')) + \"\\n\")\n",
    "    print(json.dumps(account_info, indent=2))\n",
    "\n",
    "first_transaction_example(acct[0],address3)"
   ]
  },
  {
   "cell_type": "markdown",
   "metadata": {},
   "source": [
    "##### First Transaction"
   ]
  },
  {
   "cell_type": "code",
   "execution_count": 51,
   "metadata": {},
   "outputs": [
    {
     "name": "stdout",
     "output_type": "stream",
     "text": [
      "https://testnet-algorand.api.purestake.io/idx2\n",
      "Signed transaction with txID: X4IAQNEE5BRPCQ23O46LYXXW554LJYEYG6PJIIDQNAXZVGYWPJSQ\n",
      "Waiting for confirmation\n",
      "Transaction confirmed in round 24428219\n",
      "Starting Account balance: 12967000 microAlgos\n",
      "Amount transfered: 10000 microAlgos\n",
      "Fee: 0 microAlgos\n",
      "Final Account balance: 12967000 microAlgos\n",
      "\n"
     ]
    }
   ],
   "source": [
    "import json\n",
    "import base64\n",
    "from algosdk import account, mnemonic, constants\n",
    "from algosdk.v2client import algod\n",
    "from algosdk import transaction\n",
    "\n",
    "def first_transaction_example(private_key, my_address):\n",
    "    headers = {\"X-API-Key\": API_KEY }\n",
    "    algod_client = algod.AlgodClient(API_KEY, \"https://testnet-algorand.api.purestake.io/ps2\", headers=headers)\n",
    "\n",
    "    print(API_URL_TEST_NET)\n",
    "    \n",
    "    # build transaction\n",
    "    params = algod_client.suggested_params()  \n",
    "\n",
    "    gh = params.gh  \n",
    "    first_valid_round = params.first  \n",
    "    last_valid_round = params.last  \n",
    "    fee = params.min_fee  \n",
    "    send_amount = 10000\n",
    "    note = \"Hello World\".encode() \n",
    "    send_to_address = 'ORIQFXKICNADY4U6H6O4T4ZNN7NNRVI4WD7J3ZF3V2URHYV6FZIIH5D7NY'\n",
    "\n",
    "    # unsigned_txn = transaction.PaymentTxn(my_address, params, receiver, amount, None, note)\n",
    "    unsigned_txn = transaction.PaymentTxn(my_address, fee, first_valid_round, last_valid_round, gh, send_to_address, send_amount, flat_fee=True)\n",
    "\n",
    "    \n",
    "\n",
    "    # sign transaction\n",
    "    signed_txn = unsigned_txn.sign(private_key)\n",
    "\n",
    "    # submit transaction\n",
    "    txid = algod_client.send_transaction(signed_txn)\n",
    "    print(\"Signed transaction with txID: {}\".format(txid))\n",
    "\n",
    "    # wait for confirmation \n",
    "\n",
    "    def wait_for_confirmation(client, txid):\n",
    "        last_round = client.status().get('last-round')\n",
    "        txinfo = client.pending_transaction_info(txid)\n",
    "        while not (txinfo.get('confirmed-round') and txinfo.get('confirmed-round') > 0):\n",
    "            print('Waiting for confirmation')\n",
    "            last_round += 1\n",
    "            client.status_after_block(last_round)\n",
    "            txinfo = client.pending_transaction_info(txid)\n",
    "        print('Transaction confirmed in round', txinfo.get('confirmed-round'))\n",
    "        return txinfo\n",
    "\n",
    "    try:\n",
    "        # confirmed_txn = transaction.wait_for_confirmation(algod_client, txid, 4)\n",
    "        wait_for_confirmation(algod_client, txid=signed_txn.transaction.get_txid())  \n",
    "    except Exception as err:\n",
    "        print(err)\n",
    "        return\n",
    "\n",
    "    # print(\"Transaction information: {}\".format(\n",
    "    #     json.dumps(confirmed_txn, indent=4)))\n",
    "    # print(\"Decoded note: {}\".format(base64.b64decode(\n",
    "    #     confirmed_txn[\"txn\"][\"txn\"][\"note\"]).decode()))\n",
    "\n",
    "    \n",
    "    account_info = algod_client.account_info(my_address)\n",
    "    print(\"Starting Account balance: {} microAlgos\".format(account_info.get('amount')) )\n",
    "    print(\"Amount transfered: {} microAlgos\".format(send_amount) )    \n",
    "    print(\"Fee: {} microAlgos\".format(params.fee) ) \n",
    "\n",
    "\n",
    "    account_info = algod_client.account_info(my_address)\n",
    "    print(\"Final Account balance: {} microAlgos\".format(account_info.get('amount')) + \"\\n\")\n",
    "\n",
    "\n",
    "\n",
    "# replace private_key and my_address with your private key and your address.\n",
    "first_transaction_example(acct[0],address3)"
   ]
  },
  {
   "cell_type": "markdown",
   "metadata": {},
   "source": [
    "#### Create an Asset"
   ]
  },
  {
   "cell_type": "code",
   "execution_count": 53,
   "metadata": {},
   "outputs": [],
   "source": [
    "def wait_for_confirmation(client, txid):\n",
    "    last_round = client.status().get('last-round')\n",
    "    txinfo = client.pending_transaction_info(txid)\n",
    "    while not (txinfo.get('confirmed-round') and txinfo.get('confirmed-round') > 0):\n",
    "        print('Waiting for confirmation')\n",
    "        last_round += 1\n",
    "        client.status_after_block(last_round)\n",
    "        txinfo = client.pending_transaction_info(txid)\n",
    "    print('Transaction confirmed in round', txinfo.get('confirmed-round'))\n",
    "    return txinfo"
   ]
  },
  {
   "cell_type": "code",
   "execution_count": 55,
   "metadata": {},
   "outputs": [
    {
     "name": "stdout",
     "output_type": "stream",
     "text": [
      "Signed transaction with txID: UTIWEPCCL2LYENA2HD32453GZX652FHZ3SW5MV5NLDKHZVRBK3IA\n",
      "TXID:  UTIWEPCCL2LYENA2HD32453GZX652FHZ3SW5MV5NLDKHZVRBK3IA\n",
      "Result confirmed in round: 24428458\n",
      "Transaction information: {\n",
      "    \"asset-index\": 113487189,\n",
      "    \"confirmed-round\": 24428458,\n",
      "    \"pool-error\": \"\",\n",
      "    \"txn\": {\n",
      "        \"sig\": \"bMp+vv5gOkNWfXaia5R9eobijgm3xvsjxtS1B3TJJOfNvYmSuZLvhtx1dhm1+qz5JdjYsoPGXP9xss+ImsgyCw==\",\n",
      "        \"txn\": {\n",
      "            \"apar\": {\n",
      "                \"an\": \"latinum\",\n",
      "                \"au\": \"https://google.com\",\n",
      "                \"c\": \"53S7TO35ACZJKAA7NRDKRIZ5EAQGIVYVHQXLBWOALGCSUBIX4AWD5TCS6E\",\n",
      "                \"f\": \"53S7TO35ACZJKAA7NRDKRIZ5EAQGIVYVHQXLBWOALGCSUBIX4AWD5TCS6E\",\n",
      "                \"m\": \"53S7TO35ACZJKAA7NRDKRIZ5EAQGIVYVHQXLBWOALGCSUBIX4AWD5TCS6E\",\n",
      "                \"r\": \"53S7TO35ACZJKAA7NRDKRIZ5EAQGIVYVHQXLBWOALGCSUBIX4AWD5TCS6E\",\n",
      "                \"t\": 1,\n",
      "                \"un\": \"LATINUM\"\n",
      "            },\n",
      "            \"fee\": 1000,\n",
      "            \"fv\": 24428456,\n",
      "            \"gen\": \"testnet-v1.0\",\n",
      "            \"gh\": \"SGO1GKSzyE7IEPItTxCByw9x8FmnrCDexi9/cOUJOiI=\",\n",
      "            \"lv\": 24429456,\n",
      "            \"snd\": \"53S7TO35ACZJKAA7NRDKRIZ5EAQGIVYVHQXLBWOALGCSUBIX4AWD5TCS6E\",\n",
      "            \"type\": \"acfg\"\n",
      "        }\n",
      "    }\n",
      "}\n"
     ]
    }
   ],
   "source": [
    "import json\n",
    "import base64\n",
    "from algosdk.v2client import algod\n",
    "from algosdk import account, mnemonic\n",
    "from algosdk.future.transaction import AssetConfigTxn, AssetTransferTxn, AssetFreezeTxn\n",
    "from algosdk.future.transaction import *\n",
    "headers = {\"X-API-Key\": API_KEY }\n",
    "algod_client = algod.AlgodClient(API_KEY, \"https://testnet-algorand.api.purestake.io/ps2\", headers=headers)\n",
    "params = algod_client.suggested_params()\n",
    "txn = AssetConfigTxn(\n",
    "    sender=address3,\n",
    "    sp=params,\n",
    "    total=1,\n",
    "    default_frozen=False,\n",
    "    unit_name=\"LATINUM\",\n",
    "    asset_name=\"latinum\",\n",
    "    manager=address3,\n",
    "    reserve=address3,\n",
    "    freeze=address3,\n",
    "    clawback=address3,\n",
    "    url=\"https://google.com\", \n",
    "    decimals=0)\n",
    "stxn = txn.sign(acct[0])\n",
    "\n",
    "try:\n",
    "    txid = algod_client.send_transaction(stxn)\n",
    "    print(\"Signed transaction with txID: {}\".format(txid))\n",
    "    # Wait for the transaction to be confirmed\n",
    "    confirmed_txn = wait_for_confirmation(algod_client, txid, 4)  \n",
    "    print(\"TXID: \", txid)\n",
    "    print(\"Result confirmed in round: {}\".format(confirmed_txn['confirmed-round']))\n",
    "   \n",
    "except Exception as err:\n",
    "    print(err)\n",
    "# Retrieve the asset ID of the newly created asset by first\n",
    "# ensuring that the creation transaction was confirmed,\n",
    "# then grabbing the asset id from the transaction.\n",
    "\n",
    "print(\"Transaction information: {}\".format(\n",
    "    json.dumps(confirmed_txn, indent=4)))\n"
   ]
  },
  {
   "cell_type": "code",
   "execution_count": null,
   "metadata": {},
   "outputs": [],
   "source": []
  }
 ],
 "metadata": {
  "kernelspec": {
   "display_name": "Python 3.10.7 ('env': venv)",
   "language": "python",
   "name": "python3"
  },
  "language_info": {
   "codemirror_mode": {
    "name": "ipython",
    "version": 3
   },
   "file_extension": ".py",
   "mimetype": "text/x-python",
   "name": "python",
   "nbconvert_exporter": "python",
   "pygments_lexer": "ipython3",
   "version": "3.12.1"
  },
  "orig_nbformat": 4,
  "vscode": {
   "interpreter": {
    "hash": "6c3444277695c8605972561ce6ff4a3cb89890fe6026bb43cd9164a94a0aad61"
   }
  }
 },
 "nbformat": 4,
 "nbformat_minor": 2
}
