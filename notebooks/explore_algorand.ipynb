{
 "cells": [
  {
   "cell_type": "code",
   "execution_count": 9,
   "metadata": {},
   "outputs": [],
   "source": [
    "from algosdk import account, mnemonic, transaction\n",
    "from algosdk.v2client import algod\n",
    "from algosdk.transaction import AssetConfigTxn, AssetTransferTxn, AssetFreezeTxn"
   ]
  },
  {
   "cell_type": "code",
   "execution_count": 10,
   "metadata": {},
   "outputs": [
    {
     "name": "stdout",
     "output_type": "stream",
     "text": [
      "Account address: E6ZVXDRBNREJ2L5UL6DYIKPWXAPKFC53RBVC5R7ZNWRETE3C6W6V25SO2M\n",
      "Private key mnemonic: naive solid hawk element news run network car hobby famous february select movie luxury size ritual current sample digital all crime outer vote about great\n"
     ]
    }
   ],
   "source": [
    "# Generate a new account\n",
    "private_key, account_address = account.generate_account()\n",
    "\n",
    "# Print the account details\n",
    "print(\"Account address:\", account_address)\n",
    "print(\"Private key mnemonic:\", mnemonic.from_private_key(private_key))"
   ]
  },
  {
   "cell_type": "code",
   "execution_count": 11,
   "metadata": {},
   "outputs": [],
   "source": [
    "# Specify the node address and token.\n",
    "\n",
    "algod_address = \"http://localhost:4001\"\n",
    "algod_token = \"aaaaaaaaaaaaaaaaaaaaaaaaaaaaaaaaaaaaaaaaaaaaaaaaaaaaaaaaaaaaaaaa\"\n",
    "\n",
    "# Initialize an algod client\n",
    "algod_client = algod.AlgodClient(algod_token=algod_token, algod_address=algod_address)"
   ]
  },
  {
   "cell_type": "code",
   "execution_count": 99,
   "metadata": {},
   "outputs": [
    {
     "data": {
      "text/plain": [
       "{'address': 'WLPA7ZAAPDOUFUNZJIWCKKE5L3353TVJDNIZSVFXS43GUP2ZAXCHTPU4JQ',\n",
       " 'amount': 300000000,\n",
       " 'amount-without-pending-rewards': 300000000,\n",
       " 'apps-local-state': [],\n",
       " 'apps-total-schema': {'num-byte-slice': 0, 'num-uint': 0},\n",
       " 'assets': [],\n",
       " 'created-apps': [],\n",
       " 'created-assets': [],\n",
       " 'min-balance': 100000,\n",
       " 'pending-rewards': 0,\n",
       " 'reward-base': 0,\n",
       " 'rewards': 0,\n",
       " 'round': 24,\n",
       " 'status': 'Offline',\n",
       " 'total-apps-opted-in': 0,\n",
       " 'total-assets-opted-in': 0,\n",
       " 'total-created-apps': 0,\n",
       " 'total-created-assets': 0}"
      ]
     },
     "execution_count": 99,
     "metadata": {},
     "output_type": "execute_result"
    }
   ],
   "source": [
    "algod_client.account_info(address=\"WLPA7ZAAPDOUFUNZJIWCKKE5L3353TVJDNIZSVFXS43GUP2ZAXCHTPU4JQ\")\n",
    "# T3ZFDPC5RSVX7Z63OBUUIXM7OI7BXUR6TSVYTCB5RDDRQSUUZ6IHZKMVX4"
   ]
  },
  {
   "cell_type": "code",
   "execution_count": 19,
   "metadata": {},
   "outputs": [
    {
     "ename": "ImportError",
     "evalue": "cannot import name 'goal' from 'algosdk' (/home/babi/miniconda3/envs/tenx_week5/lib/python3.12/site-packages/algosdk/__init__.py)",
     "output_type": "error",
     "traceback": [
      "\u001b[0;31m---------------------------------------------------------------------------\u001b[0m",
      "\u001b[0;31mImportError\u001b[0m                               Traceback (most recent call last)",
      "Cell \u001b[0;32mIn[19], line 2\u001b[0m\n\u001b[1;32m      1\u001b[0m \u001b[38;5;66;03m# from algosdk.v2client import goal\u001b[39;00m\n\u001b[0;32m----> 2\u001b[0m \u001b[38;5;28;01mfrom\u001b[39;00m \u001b[38;5;21;01malgosdk\u001b[39;00m \u001b[38;5;28;01mimport\u001b[39;00m goal\n\u001b[1;32m      3\u001b[0m \u001b[38;5;66;03m# Replace algod_token with your API token if required\u001b[39;00m\n\u001b[1;32m      4\u001b[0m goal_client \u001b[38;5;241m=\u001b[39m goal\u001b[38;5;241m.\u001b[39mGoalClient(algod_token\u001b[38;5;241m=\u001b[39m\u001b[38;5;124m\"\u001b[39m\u001b[38;5;124maaaaaaaaaaaaaaaaaaaaaaaaaaaaaaaaaaaaaaaaaaaaaaaaaaaaaaaaaaaaaaaa\u001b[39m\u001b[38;5;124m\"\u001b[39m)\n",
      "\u001b[0;31mImportError\u001b[0m: cannot import name 'goal' from 'algosdk' (/home/babi/miniconda3/envs/tenx_week5/lib/python3.12/site-packages/algosdk/__init__.py)"
     ]
    }
   ],
   "source": [
    "# from algosdk.v2client import goal\n",
    "from algosdk\n",
    "# Replace algod_token with your API token if required\n",
    "goal_client = goal.GoalClient(algod_token=\"aaaaaaaaaaaaaaaaaaaaaaaaaaaaaaaaaaaaaaaaaaaaaaaaaaaaaaaaaaaaaaaa\")\n",
    "\n",
    "# Generate a new payment transaction from the node account\n",
    "txn = goal_client.transaction_create(from_=\"\", to=\"T3ZFDPC5RSVX7Z63OBUUIXM7OI7BXUR6TSVYTCB5RDDRQSUUZ6IHZKMVX4\", amount=1000000000)\n",
    "\n",
    "# Sign the transaction with the node's private key (handle securely)\n",
    "stxn = txn.sign(goal_client.goal_private_key())\n",
    "\n",
    "# Submit the signed transaction\n",
    "txid = goal_client.transaction_send(stxn)"
   ]
  },
  {
   "cell_type": "code",
   "execution_count": 35,
   "metadata": {},
   "outputs": [
    {
     "name": "stdout",
     "output_type": "stream",
     "text": [
      "Account address: PHZDHM32KBPQQPB6VJFOVTV2BAAPTZXT2HREXX757MQI4QN2VJAHCAZOWE\n"
     ]
    }
   ],
   "source": [
    "import algosdk\n",
    "from algosdk.v2client import algod\n",
    "from algosdk import account, mnemonic, transaction\n",
    "\n",
    "\n",
    "algod_address = \"http://localhost:4001\"\n",
    "algod_token = \"aaaaaaaaaaaaaaaaaaaaaaaaaaaaaaaaaaaaaaaaaaaaaaaaaaaaaaaaaaaaaaaa\"\n",
    "\n",
    "# Generate a new account\n",
    "private_key, account_address = algosdk.account.generate_account()\n",
    "algod_client = algod.AlgodClient(algod_token=algod_token, algod_address=algod_address)\n",
    "\n",
    "params = algod_client.suggested_params()\n",
    "# Fund the account with 1000 algos\n",
    "transaction.PaymentTxn(\n",
    "        account_address,\n",
    "        params,\n",
    "        \"AAAAAAAAAAAAAAAAAAAAAAAAAAAAAAAAAAAAAAAAAAAAAAAAAAAAY5HFKQ\",\n",
    "        1000000,\n",
    "        None,\n",
    "        None,\n",
    "        None,\n",
    "       \n",
    "    ).sign(private_key)\n",
    "\n",
    "print(f\"Account address: {account_address}\")\n"
   ]
  },
  {
   "cell_type": "code",
   "execution_count": null,
   "metadata": {},
   "outputs": [],
   "source": [
    "params = algod_client.suggested_params()\n",
    "\n",
    "# The freeze address (Account 2) freezes Account 3's latinum holdings.\n",
    "\n",
    "txn = AssetFreezeTxn(\n",
    "    sender=accounts[1]['pk'],\n",
    "    sp=params,\n",
    "    index=asset_id,\n",
    "    target=accounts[2][\"pk\"],\n",
    "    new_freeze_state=True\n",
    "    )\n",
    "stxn = txn.sign(accounts[1]['sk'])\n",
    "# Send the transaction to the network and retrieve the txid.\n",
    "try:\n",
    "    txid = algod_client.send_transaction(stxn)\n",
    "    print(\"Signed transaction with txID: {}\".format(txid))\n",
    "    # Wait for the transaction to be confirmed\n",
    "    confirmed_txn = wait_for_confirmation(algod_client, txid, 4)\n",
    "    print(\"TXID: \", txid)\n",
    "    print(\"Result confirmed in round: {}\".format(confirmed_txn['confirmed-round']))\n",
    "except Exception as err:\n",
    "    print(err)\n",
    "# The balance should now be 10 with frozen set to true.\n",
    "print_asset_holding(algod_client, accounts[3]['pk'], asset_id)"
   ]
  },
  {
   "cell_type": "code",
   "execution_count": 45,
   "metadata": {},
   "outputs": [
    {
     "ename": "Error",
     "evalue": "Incorrect padding",
     "output_type": "error",
     "traceback": [
      "\u001b[0;31m---------------------------------------------------------------------------\u001b[0m",
      "\u001b[0;31mError\u001b[0m                                     Traceback (most recent call last)",
      "Cell \u001b[0;32mIn[45], line 37\u001b[0m\n\u001b[1;32m     35\u001b[0m \u001b[38;5;66;03m# Fund the receiver account with 1000 algos\u001b[39;00m\n\u001b[1;32m     36\u001b[0m fund_amount \u001b[38;5;241m=\u001b[39m \u001b[38;5;241m1000000\u001b[39m  \u001b[38;5;66;03m# 1000 algos in microalgos\u001b[39;00m\n\u001b[0;32m---> 37\u001b[0m \u001b[43mfund_account\u001b[49m\u001b[43m(\u001b[49m\u001b[43msender_private_key\u001b[49m\u001b[43m,\u001b[49m\u001b[43m \u001b[49m\u001b[43mreceiver_address\u001b[49m\u001b[43m,\u001b[49m\u001b[43m \u001b[49m\u001b[43mfund_amount\u001b[49m\u001b[43m)\u001b[49m\n\u001b[1;32m     39\u001b[0m \u001b[38;5;28mprint\u001b[39m(\u001b[38;5;124mf\u001b[39m\u001b[38;5;124m\"\u001b[39m\u001b[38;5;124mSender Address: \u001b[39m\u001b[38;5;132;01m{\u001b[39;00msender_address\u001b[38;5;132;01m}\u001b[39;00m\u001b[38;5;124m\"\u001b[39m)\n\u001b[1;32m     40\u001b[0m \u001b[38;5;28mprint\u001b[39m(\u001b[38;5;124mf\u001b[39m\u001b[38;5;124m\"\u001b[39m\u001b[38;5;124mReceiver Address: \u001b[39m\u001b[38;5;132;01m{\u001b[39;00mreceiver_address\u001b[38;5;132;01m}\u001b[39;00m\u001b[38;5;124m\"\u001b[39m)\n",
      "Cell \u001b[0;32mIn[45], line 21\u001b[0m, in \u001b[0;36mfund_account\u001b[0;34m(sender_private_key, receiver_address, amount_microalgos)\u001b[0m\n\u001b[1;32m     18\u001b[0m txn \u001b[38;5;241m=\u001b[39m transaction\u001b[38;5;241m.\u001b[39mPaymentTxn(sender_private_key, params, receiver_address, amount_microalgos)\n\u001b[1;32m     20\u001b[0m \u001b[38;5;66;03m# Sign the transaction\u001b[39;00m\n\u001b[0;32m---> 21\u001b[0m signed_txn \u001b[38;5;241m=\u001b[39m \u001b[43mtxn\u001b[49m\u001b[38;5;241;43m.\u001b[39;49m\u001b[43msign\u001b[49m\u001b[43m(\u001b[49m\u001b[43msender_private_key\u001b[49m\u001b[43m)\u001b[49m\n\u001b[1;32m     23\u001b[0m \u001b[38;5;66;03m# Broadcast the transaction\u001b[39;00m\n\u001b[1;32m     24\u001b[0m txid \u001b[38;5;241m=\u001b[39m encoding\u001b[38;5;241m.\u001b[39mmsgpack_encode(signed_txn)\n",
      "File \u001b[0;32m~/miniconda3/envs/tenx_week5/lib/python3.12/site-packages/algosdk/transaction.py:137\u001b[0m, in \u001b[0;36mTransaction.sign\u001b[0;34m(self, private_key)\u001b[0m\n\u001b[1;32m    127\u001b[0m \u001b[38;5;28;01mdef\u001b[39;00m \u001b[38;5;21msign\u001b[39m(\u001b[38;5;28mself\u001b[39m, private_key):\n\u001b[1;32m    128\u001b[0m \u001b[38;5;250m    \u001b[39m\u001b[38;5;124;03m\"\"\"\u001b[39;00m\n\u001b[1;32m    129\u001b[0m \u001b[38;5;124;03m    Sign the transaction with a private key.\u001b[39;00m\n\u001b[1;32m    130\u001b[0m \n\u001b[0;32m   (...)\u001b[0m\n\u001b[1;32m    135\u001b[0m \u001b[38;5;124;03m        SignedTransaction: signed transaction with the signature\u001b[39;00m\n\u001b[1;32m    136\u001b[0m \u001b[38;5;124;03m    \"\"\"\u001b[39;00m\n\u001b[0;32m--> 137\u001b[0m     sig \u001b[38;5;241m=\u001b[39m \u001b[38;5;28;43mself\u001b[39;49m\u001b[38;5;241;43m.\u001b[39;49m\u001b[43mraw_sign\u001b[49m\u001b[43m(\u001b[49m\u001b[43mprivate_key\u001b[49m\u001b[43m)\u001b[49m\n\u001b[1;32m    138\u001b[0m     sig \u001b[38;5;241m=\u001b[39m base64\u001b[38;5;241m.\u001b[39mb64encode(sig)\u001b[38;5;241m.\u001b[39mdecode()\n\u001b[1;32m    139\u001b[0m     authorizing_address \u001b[38;5;241m=\u001b[39m \u001b[38;5;28;01mNone\u001b[39;00m\n",
      "File \u001b[0;32m~/miniconda3/envs/tenx_week5/lib/python3.12/site-packages/algosdk/transaction.py:172\u001b[0m, in \u001b[0;36mTransaction.raw_sign\u001b[0;34m(self, private_key)\u001b[0m\n\u001b[1;32m    162\u001b[0m \u001b[38;5;250m\u001b[39m\u001b[38;5;124;03m\"\"\"\u001b[39;00m\n\u001b[1;32m    163\u001b[0m \u001b[38;5;124;03mSign the transaction.\u001b[39;00m\n\u001b[1;32m    164\u001b[0m \n\u001b[0;32m   (...)\u001b[0m\n\u001b[1;32m    169\u001b[0m \u001b[38;5;124;03m    bytes: signature\u001b[39;00m\n\u001b[1;32m    170\u001b[0m \u001b[38;5;124;03m\"\"\"\u001b[39;00m\n\u001b[1;32m    171\u001b[0m private_key \u001b[38;5;241m=\u001b[39m base64\u001b[38;5;241m.\u001b[39mb64decode(private_key)\n\u001b[0;32m--> 172\u001b[0m txn \u001b[38;5;241m=\u001b[39m \u001b[43mencoding\u001b[49m\u001b[38;5;241;43m.\u001b[39;49m\u001b[43mmsgpack_encode\u001b[49m\u001b[43m(\u001b[49m\u001b[38;5;28;43mself\u001b[39;49m\u001b[43m)\u001b[49m\n\u001b[1;32m    173\u001b[0m to_sign \u001b[38;5;241m=\u001b[39m constants\u001b[38;5;241m.\u001b[39mtxid_prefix \u001b[38;5;241m+\u001b[39m base64\u001b[38;5;241m.\u001b[39mb64decode(txn)\n\u001b[1;32m    174\u001b[0m signing_key \u001b[38;5;241m=\u001b[39m SigningKey(private_key[: constants\u001b[38;5;241m.\u001b[39mkey_len_bytes])\n",
      "File \u001b[0;32m~/miniconda3/envs/tenx_week5/lib/python3.12/site-packages/algosdk/encoding.py:34\u001b[0m, in \u001b[0;36mmsgpack_encode\u001b[0;34m(obj)\u001b[0m\n\u001b[1;32m     32\u001b[0m d \u001b[38;5;241m=\u001b[39m obj\n\u001b[1;32m     33\u001b[0m \u001b[38;5;28;01mif\u001b[39;00m \u001b[38;5;129;01mnot\u001b[39;00m \u001b[38;5;28misinstance\u001b[39m(obj, \u001b[38;5;28mdict\u001b[39m):\n\u001b[0;32m---> 34\u001b[0m     d \u001b[38;5;241m=\u001b[39m \u001b[43mobj\u001b[49m\u001b[38;5;241;43m.\u001b[39;49m\u001b[43mdictify\u001b[49m\u001b[43m(\u001b[49m\u001b[43m)\u001b[49m\n\u001b[1;32m     35\u001b[0m od \u001b[38;5;241m=\u001b[39m _sort_dict(d)\n\u001b[1;32m     36\u001b[0m \u001b[38;5;28;01mreturn\u001b[39;00m base64\u001b[38;5;241m.\u001b[39mb64encode(msgpack\u001b[38;5;241m.\u001b[39mpackb(od, use_bin_type\u001b[38;5;241m=\u001b[39m\u001b[38;5;28;01mTrue\u001b[39;00m))\u001b[38;5;241m.\u001b[39mdecode()\n",
      "File \u001b[0;32m~/miniconda3/envs/tenx_week5/lib/python3.12/site-packages/algosdk/transaction.py:386\u001b[0m, in \u001b[0;36mPaymentTxn.dictify\u001b[0;34m(self)\u001b[0m\n\u001b[1;32m    383\u001b[0m \u001b[38;5;28;01mif\u001b[39;00m \u001b[38;5;28many\u001b[39m(decoded_receiver):\n\u001b[1;32m    384\u001b[0m     d[\u001b[38;5;124m\"\u001b[39m\u001b[38;5;124mrcv\u001b[39m\u001b[38;5;124m\"\u001b[39m] \u001b[38;5;241m=\u001b[39m encoding\u001b[38;5;241m.\u001b[39mdecode_address(\u001b[38;5;28mself\u001b[39m\u001b[38;5;241m.\u001b[39mreceiver)\n\u001b[0;32m--> 386\u001b[0m d\u001b[38;5;241m.\u001b[39mupdate(\u001b[38;5;28;43msuper\u001b[39;49m\u001b[43m(\u001b[49m\u001b[43mPaymentTxn\u001b[49m\u001b[43m,\u001b[49m\u001b[43m \u001b[49m\u001b[38;5;28;43mself\u001b[39;49m\u001b[43m)\u001b[49m\u001b[38;5;241;43m.\u001b[39;49m\u001b[43mdictify\u001b[49m\u001b[43m(\u001b[49m\u001b[43m)\u001b[49m)\n\u001b[1;32m    387\u001b[0m od \u001b[38;5;241m=\u001b[39m OrderedDict(\u001b[38;5;28msorted\u001b[39m(d\u001b[38;5;241m.\u001b[39mitems()))\n\u001b[1;32m    389\u001b[0m \u001b[38;5;28;01mreturn\u001b[39;00m od\n",
      "File \u001b[0;32m~/miniconda3/envs/tenx_week5/lib/python3.12/site-packages/algosdk/transaction.py:192\u001b[0m, in \u001b[0;36mTransaction.dictify\u001b[0;34m(self)\u001b[0m\n\u001b[1;32m    190\u001b[0m \u001b[38;5;28;01mif\u001b[39;00m \u001b[38;5;28mself\u001b[39m\u001b[38;5;241m.\u001b[39mgenesis_id:\n\u001b[1;32m    191\u001b[0m     d[\u001b[38;5;124m\"\u001b[39m\u001b[38;5;124mgen\u001b[39m\u001b[38;5;124m\"\u001b[39m] \u001b[38;5;241m=\u001b[39m \u001b[38;5;28mself\u001b[39m\u001b[38;5;241m.\u001b[39mgenesis_id\n\u001b[0;32m--> 192\u001b[0m d[\u001b[38;5;124m\"\u001b[39m\u001b[38;5;124mgh\u001b[39m\u001b[38;5;124m\"\u001b[39m] \u001b[38;5;241m=\u001b[39m \u001b[43mbase64\u001b[49m\u001b[38;5;241;43m.\u001b[39;49m\u001b[43mb64decode\u001b[49m\u001b[43m(\u001b[49m\u001b[38;5;28;43mself\u001b[39;49m\u001b[38;5;241;43m.\u001b[39;49m\u001b[43mgenesis_hash\u001b[49m\u001b[43m)\u001b[49m\n\u001b[1;32m    193\u001b[0m \u001b[38;5;28;01mif\u001b[39;00m \u001b[38;5;28mself\u001b[39m\u001b[38;5;241m.\u001b[39mgroup:\n\u001b[1;32m    194\u001b[0m     d[\u001b[38;5;124m\"\u001b[39m\u001b[38;5;124mgrp\u001b[39m\u001b[38;5;124m\"\u001b[39m] \u001b[38;5;241m=\u001b[39m \u001b[38;5;28mself\u001b[39m\u001b[38;5;241m.\u001b[39mgroup\n",
      "File \u001b[0;32m~/miniconda3/envs/tenx_week5/lib/python3.12/base64.py:88\u001b[0m, in \u001b[0;36mb64decode\u001b[0;34m(s, altchars, validate)\u001b[0m\n\u001b[1;32m     86\u001b[0m     \u001b[38;5;28;01massert\u001b[39;00m \u001b[38;5;28mlen\u001b[39m(altchars) \u001b[38;5;241m==\u001b[39m \u001b[38;5;241m2\u001b[39m, \u001b[38;5;28mrepr\u001b[39m(altchars)\n\u001b[1;32m     87\u001b[0m     s \u001b[38;5;241m=\u001b[39m s\u001b[38;5;241m.\u001b[39mtranslate(\u001b[38;5;28mbytes\u001b[39m\u001b[38;5;241m.\u001b[39mmaketrans(altchars, \u001b[38;5;124mb\u001b[39m\u001b[38;5;124m'\u001b[39m\u001b[38;5;124m+/\u001b[39m\u001b[38;5;124m'\u001b[39m))\n\u001b[0;32m---> 88\u001b[0m \u001b[38;5;28;01mreturn\u001b[39;00m \u001b[43mbinascii\u001b[49m\u001b[38;5;241;43m.\u001b[39;49m\u001b[43ma2b_base64\u001b[49m\u001b[43m(\u001b[49m\u001b[43ms\u001b[49m\u001b[43m,\u001b[49m\u001b[43m \u001b[49m\u001b[43mstrict_mode\u001b[49m\u001b[38;5;241;43m=\u001b[39;49m\u001b[43mvalidate\u001b[49m\u001b[43m)\u001b[49m\n",
      "\u001b[0;31mError\u001b[0m: Incorrect padding"
     ]
    }
   ],
   "source": [
    "from algosdk import account, encoding, mnemonic, transaction\n",
    "\n",
    "def create_account():\n",
    "    private_key, address = account.generate_account()\n",
    "    return private_key, address\n",
    "\n",
    "def fund_account(sender_private_key, receiver_address, amount_microalgos):\n",
    "    params = transaction.SuggestedParams(\n",
    "        fee=1000,\n",
    "        first=1,\n",
    "        gh=\"AAAAAAAAAAAAAAAAAAAAAAAAAAAAAAAAAAAAAAAAAAAAAAAAAAAAY5HFKQ\",\n",
    "        last=1000,\n",
    "        flat_fee=True,\n",
    "        consensus_version=1\n",
    "    )\n",
    "\n",
    "    # Create a transaction\n",
    "    txn = transaction.PaymentTxn(sender_private_key, params, receiver_address, amount_microalgos)\n",
    "\n",
    "    # Sign the transaction\n",
    "    signed_txn = txn.sign(sender_private_key)\n",
    "\n",
    "    # Broadcast the transaction\n",
    "    txid = encoding.msgpack_encode(signed_txn)\n",
    "    algod_address = \"http://localhost:4001\"  # replace with the Algod address\n",
    "    algod_token = \"aaaaaaaaaaaaaaaaaaaaaaaaaaaaaaaaaaaaaaaaaaaaaaaaaaaaaaaaaaaaaaaa\"  # replace with your Algod token\n",
    "    algod_client = algod.AlgodClient(algod_token, algod_address)\n",
    "    tx_confirm = algod_client.send_transaction(txn=signed_txn)\n",
    "    return tx_confirm\n",
    "\n",
    "if __name__ == \"__main__\":\n",
    "    sender_private_key, sender_address = create_account()\n",
    "    receiver_private_key, receiver_address = create_account()\n",
    "\n",
    "    # Fund the receiver account with 1000 algos\n",
    "    fund_amount = 1000000  # 1000 algos in microalgos\n",
    "    fund_account(sender_private_key, receiver_address, fund_amount)\n",
    "\n",
    "    print(f\"Sender Address: {sender_address}\")\n",
    "    print(f\"Receiver Address: {receiver_address}\")"
   ]
  },
  {
   "cell_type": "code",
   "execution_count": 56,
   "metadata": {},
   "outputs": [],
   "source": [
    "from algosdk import account, mnemonic, transaction\n",
    "\n",
    "def payment_transaction(sender_address, receiver_address, amount, params):\n",
    "    transaction = transaction(\n",
    "        sender=sender_address,\n",
    "        fee=params.min_fee,\n",
    "        first=params.last_round,\n",
    "        last=params.last_round + 1000,\n",
    "        gh=params.genesis_hash,\n",
    "        receiver=receiver_address,\n",
    "        amt=amount,\n",
    "        flat_fee=True,\n",
    "    )\n",
    "    return transaction\n"
   ]
  },
  {
   "cell_type": "code",
   "execution_count": 57,
   "metadata": {},
   "outputs": [
    {
     "name": "stdout",
     "output_type": "stream",
     "text": [
      "Sender Address: G7ZHNYJU7Z4463U2FCL2VR7RFVKA3M63I5FXWLCE3JOFQASJAYGDCBKGPA\n",
      "Sender Mnemonic: notable invite family weasel test process join disease topic flag orphan glove crawl lottery talent trumpet mobile current source wise canal retire enrich abstract fit\n",
      "Receiver Address: DMCVCR5ZYQJM4L4MJ5Z2FF7Q3UANFGQOEOSIBI5O47CSFG5NRJVTAQD3AQ\n",
      "Receiver Mnemonic: wrap surge hand people nature end couple debate aim foil guess remain chicken base repeat upset eternal address million betray blush velvet confirm about diary\n"
     ]
    },
    {
     "ename": "UnboundLocalError",
     "evalue": "cannot access local variable 'transaction' where it is not associated with a value",
     "output_type": "error",
     "traceback": [
      "\u001b[0;31m---------------------------------------------------------------------------\u001b[0m",
      "\u001b[0;31mUnboundLocalError\u001b[0m                         Traceback (most recent call last)",
      "Cell \u001b[0;32mIn[57], line 28\u001b[0m\n\u001b[1;32m     26\u001b[0m fund_amount \u001b[38;5;241m=\u001b[39m \u001b[38;5;241m1000\u001b[39m\n\u001b[1;32m     27\u001b[0m params \u001b[38;5;241m=\u001b[39m algod_client\u001b[38;5;241m.\u001b[39msuggested_params()\n\u001b[0;32m---> 28\u001b[0m transaction \u001b[38;5;241m=\u001b[39m \u001b[43mpayment_transaction\u001b[49m\u001b[43m(\u001b[49m\u001b[43msender_address\u001b[49m\u001b[43m,\u001b[49m\u001b[43m \u001b[49m\u001b[43mreceiver_address\u001b[49m\u001b[43m,\u001b[49m\u001b[43m \u001b[49m\u001b[43mfund_amount\u001b[49m\u001b[43m,\u001b[49m\u001b[43m \u001b[49m\u001b[43mparams\u001b[49m\u001b[43m)\u001b[49m\n\u001b[1;32m     30\u001b[0m \u001b[38;5;66;03m# Sign the transaction with the sender's private key\u001b[39;00m\n\u001b[1;32m     31\u001b[0m signed_transaction \u001b[38;5;241m=\u001b[39m encoding\u001b[38;5;241m.\u001b[39msign_transaction(transaction, sender_private_key)\n",
      "Cell \u001b[0;32mIn[56], line 4\u001b[0m, in \u001b[0;36mpayment_transaction\u001b[0;34m(sender_address, receiver_address, amount, params)\u001b[0m\n\u001b[1;32m      3\u001b[0m \u001b[38;5;28;01mdef\u001b[39;00m \u001b[38;5;21mpayment_transaction\u001b[39m(sender_address, receiver_address, amount, params):\n\u001b[0;32m----> 4\u001b[0m     transaction \u001b[38;5;241m=\u001b[39m transaction(\n\u001b[1;32m      5\u001b[0m         sender\u001b[38;5;241m=\u001b[39msender_address,\n\u001b[1;32m      6\u001b[0m         fee\u001b[38;5;241m=\u001b[39mparams\u001b[38;5;241m.\u001b[39mmin_fee,\n\u001b[1;32m      7\u001b[0m         first\u001b[38;5;241m=\u001b[39mparams\u001b[38;5;241m.\u001b[39mlast_round,\n\u001b[1;32m      8\u001b[0m         last\u001b[38;5;241m=\u001b[39mparams\u001b[38;5;241m.\u001b[39mlast_round \u001b[38;5;241m+\u001b[39m \u001b[38;5;241m1000\u001b[39m,\n\u001b[1;32m      9\u001b[0m         gh\u001b[38;5;241m=\u001b[39mparams\u001b[38;5;241m.\u001b[39mgenesis_hash,\n\u001b[1;32m     10\u001b[0m         receiver\u001b[38;5;241m=\u001b[39mreceiver_address,\n\u001b[1;32m     11\u001b[0m         amt\u001b[38;5;241m=\u001b[39mamount,\n\u001b[1;32m     12\u001b[0m         flat_fee\u001b[38;5;241m=\u001b[39m\u001b[38;5;28;01mTrue\u001b[39;00m,\n\u001b[1;32m     13\u001b[0m     )\n\u001b[1;32m     14\u001b[0m     \u001b[38;5;28;01mreturn\u001b[39;00m transaction\n",
      "\u001b[0;31mUnboundLocalError\u001b[0m: cannot access local variable 'transaction' where it is not associated with a value"
     ]
    }
   ],
   "source": [
    "from algosdk import account, encoding, mnemonic\n",
    "from algosdk.v2client import algod\n",
    "\n",
    "# Replace these values with your Algorand node information\n",
    "algod_address = \"http://localhost:4001\"\n",
    "algod_token = \"aaaaaaaaaaaaaaaaaaaaaaaaaaaaaaaaaaaaaaaaaaaaaaaaaaaaaaaaaaaaaaaa\"\n",
    "\n",
    "# Generate a new Algorand account\n",
    "sender_private_key, sender_address = account.generate_account()\n",
    "\n",
    "# Print the sender address and mnemonic (for future reference)\n",
    "print(f\"Sender Address: {sender_address}\")\n",
    "print(f\"Sender Mnemonic: {mnemonic.from_private_key(sender_private_key)}\")\n",
    "\n",
    "# Generate a new Algorand account to receive funds\n",
    "receiver_private_key, receiver_address = account.generate_account()\n",
    "\n",
    "# Print the receiver address and mnemonic (for future reference)\n",
    "print(f\"Receiver Address: {receiver_address}\")\n",
    "print(f\"Receiver Mnemonic: {mnemonic.from_private_key(receiver_private_key)}\")\n",
    "\n",
    "# Connect to the Algorand node\n",
    "algod_client = algod.AlgodClient(algod_token, algod_address)\n",
    "\n",
    "# Fund the receiver account with 1000 algos from the sender\n",
    "fund_amount = 1000\n",
    "params = algod_client.suggested_params()\n",
    "transaction = payment_transaction(sender_address, receiver_address, fund_amount, params)\n",
    "\n",
    "# Sign the transaction with the sender's private key\n",
    "signed_transaction = encoding.sign_transaction(transaction, sender_private_key)\n",
    "\n",
    "# Send the transaction to the Algorand node\n",
    "algod_client.send_transaction(signed_transaction)\n",
    "\n",
    "print(f\"Receiver account funded with {fund_amount} algos from sender.\")\n",
    "\n"
   ]
  }
 ],
 "metadata": {
  "kernelspec": {
   "display_name": "tenx_week5",
   "language": "python",
   "name": "python3"
  },
  "language_info": {
   "codemirror_mode": {
    "name": "ipython",
    "version": 3
   },
   "file_extension": ".py",
   "mimetype": "text/x-python",
   "name": "python",
   "nbconvert_exporter": "python",
   "pygments_lexer": "ipython3",
   "version": "3.12.1"
  }
 },
 "nbformat": 4,
 "nbformat_minor": 2
}
