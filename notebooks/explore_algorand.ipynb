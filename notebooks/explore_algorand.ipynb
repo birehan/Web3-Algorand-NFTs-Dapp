{
 "cells": [
  {
   "cell_type": "code",
   "execution_count": 6,
   "metadata": {},
   "outputs": [],
   "source": [
    "from algosdk import account, mnemonic, transaction\n",
    "from algosdk.v2client import algod"
   ]
  },
  {
   "cell_type": "code",
   "execution_count": 7,
   "metadata": {},
   "outputs": [
    {
     "name": "stdout",
     "output_type": "stream",
     "text": [
      "Account address: VK2FSBUPQWQ34TPUFHTXAV6U2E3R4OEL3MBK3AGMUHAAD534JZQ7ENCN7A\n",
      "Private key mnemonic: tube project galaxy wonder budget flat work various aware resemble april better animal poverty dice exhibit caution drive nasty easily ticket rocket creek abstract butter\n"
     ]
    }
   ],
   "source": [
    "# Generate a new account\n",
    "private_key, account_address = account.generate_account()\n",
    "\n",
    "# Print the account details\n",
    "print(\"Account address:\", account_address)\n",
    "print(\"Private key mnemonic:\", mnemonic.from_private_key(private_key))"
   ]
  },
  {
   "cell_type": "code",
   "execution_count": null,
   "metadata": {},
   "outputs": [],
   "source": []
  }
 ],
 "metadata": {
  "kernelspec": {
   "display_name": "tenx_week5",
   "language": "python",
   "name": "python3"
  },
  "language_info": {
   "codemirror_mode": {
    "name": "ipython",
    "version": 3
   },
   "file_extension": ".py",
   "mimetype": "text/x-python",
   "name": "python",
   "nbconvert_exporter": "python",
   "pygments_lexer": "ipython3",
   "version": "3.12.1"
  }
 },
 "nbformat": 4,
 "nbformat_minor": 2
}
