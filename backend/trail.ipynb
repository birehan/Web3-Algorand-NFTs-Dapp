{
 "cells": [
  {
   "cell_type": "code",
   "execution_count": 7,
   "metadata": {},
   "outputs": [],
   "source": [
    "from certificate_utils import customize_certificate, get_image_url"
   ]
  },
  {
   "cell_type": "code",
   "execution_count": 4,
   "metadata": {},
   "outputs": [
    {
     "name": "stdout",
     "output_type": "stream",
     "text": [
      "Customizing certificate started.\n",
      "Image downloaded successfully\n",
      "Customized certificate saved to ../images/certificates/birehan_week_2_certificate.png\n",
      "Successfully uploaded birehan's week 2 challenge certificate.\n"
     ]
    }
   ],
   "source": [
    "response = customize_certificate(\"birehan\", \"challenge me\", \"Jan 12, 2023\", 2)"
   ]
  }
 ],
 "metadata": {
  "kernelspec": {
   "display_name": "tenx_week5",
   "language": "python",
   "name": "python3"
  },
  "language_info": {
   "codemirror_mode": {
    "name": "ipython",
    "version": 3
   },
   "file_extension": ".py",
   "mimetype": "text/x-python",
   "name": "python",
   "nbconvert_exporter": "python",
   "pygments_lexer": "ipython3",
   "version": "3.12.1"
  }
 },
 "nbformat": 4,
 "nbformat_minor": 2
}
